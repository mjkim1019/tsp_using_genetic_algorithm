{
  "nbformat": 4,
  "nbformat_minor": 0,
  "metadata": {
    "colab": {
      "name": "final_project.ipynb",
      "provenance": [],
      "mount_file_id": "1td0auQ_nZ4wOAcTU77TXr_TO62Z3hvzf",
      "authorship_tag": "ABX9TyPK8bk2MxY3co6Gu4QfhRaJ",
      "include_colab_link": true
    },
    "kernelspec": {
      "name": "python3",
      "display_name": "Python 3"
    },
    "language_info": {
      "name": "python"
    },
    "accelerator": "GPU"
  },
  "cells": [
    {
      "cell_type": "markdown",
      "metadata": {
        "id": "view-in-github",
        "colab_type": "text"
      },
      "source": [
        "<a href=\"https://colab.research.google.com/github/kimminju99/tsp_using_genetic_algorithm/blob/main/final_project.ipynb\" target=\"_parent\"><img src=\"https://colab.research.google.com/assets/colab-badge.svg\" alt=\"Open In Colab\"/></a>"
      ]
    },
    {
      "cell_type": "code",
      "metadata": {
        "colab": {
          "resources": {
            "http://localhost:8080/nbextensions/google.colab/files.js": {
              "data": "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",
              "ok": true,
              "headers": [
                [
                  "content-type",
                  "application/javascript"
                ]
              ],
              "status": 200,
              "status_text": ""
            }
          },
          "base_uri": "https://localhost:8080/",
          "height": 75
        },
        "id": "pwzKcyky3LEF",
        "outputId": "2d157c2b-ce3f-4c92-fcc6-98e1dab8caa1"
      },
      "source": [
        "from google.colab import files\n",
        "file_uploaded = files.upload()"
      ],
      "execution_count": 3,
      "outputs": [
        {
          "output_type": "display_data",
          "data": {
            "text/html": [
              "\n",
              "     <input type=\"file\" id=\"files-fc2a95db-e29e-470b-b70b-d69e89fb746b\" name=\"files[]\" multiple disabled\n",
              "        style=\"border:none\" />\n",
              "     <output id=\"result-fc2a95db-e29e-470b-b70b-d69e89fb746b\">\n",
              "      Upload widget is only available when the cell has been executed in the\n",
              "      current browser session. Please rerun this cell to enable.\n",
              "      </output>\n",
              "      <script src=\"/nbextensions/google.colab/files.js\"></script> "
            ],
            "text/plain": [
              "<IPython.core.display.HTML object>"
            ]
          },
          "metadata": {
            "tags": []
          }
        },
        {
          "output_type": "stream",
          "text": [
            "Saving TSP.csv to TSP.csv\n"
          ],
          "name": "stdout"
        }
      ]
    },
    {
      "cell_type": "code",
      "metadata": {
        "colab": {
          "base_uri": "https://localhost:8080/"
        },
        "id": "dd7unbi727gt",
        "outputId": "3ba704b0-954f-455e-a92e-84965afa28f5"
      },
      "source": [
        "import random,copy\n",
        "import numpy as np\n",
        "import csv\n",
        "import pandas as pd\n",
        "\n",
        "# given cities\n",
        "cities =[]\n",
        "len_cities = 1000\n",
        "matrix = [[0 for _ in range(len_cities)] for _ in range(len_cities)]\n",
        "visitied = [False for _ in range(len_cities)]\n",
        "\n",
        "# Euclidean distance measuring function\n",
        "def distance(x,y):\n",
        "    dist = np.linalg.norm(np.array(x)-np.array(y))\n",
        "    return dist\n",
        "\n",
        "# get TSP city map\n",
        "with open('TSP.csv', mode ='r', newline ='') as tsp:\n",
        "    # read TSP city map\n",
        "    reader = csv.reader(tsp)\n",
        "    for row in reader:\n",
        "        cities.append(row)\n",
        "\n",
        "def eval_matrix():\n",
        "    global matrix, cities\n",
        "\n",
        "    for i in range(len_cities):\n",
        "        for j in range(len_cities):\n",
        "            if i == j:\n",
        "                matrix[i][j] = 0\n",
        "            elif matrix[i][j] == 0:\n",
        "                city_1 = [float(cities[i][0]),float(cities[i][1])]\n",
        "                city_2 = [float(cities[j][0]),float(cities[j][1])]\n",
        "                matrix[i][j] = distance(city_1, city_2)\n",
        "                matrix[j][i] = matrix[i][j]\n",
        "\n",
        "def tree(start):\n",
        "    global matrix, visited\n",
        "    chrom = []\n",
        "    chrom.append(start)\n",
        "    visited[start] = True\n",
        "    \n",
        "    for _ in range(len_cities-1):\n",
        "        city = matrix[start].index(min(list(value for value in matrix[start] if visited[matrix[start].index(value)] == False and value != 0)))\n",
        "        visited[city] = True\n",
        "        chrom.append(city)\n",
        "        start = city\n",
        "\n",
        "    return chrom\n",
        "\n",
        "# 초기 염색체 트리\n",
        "def init_population_tree(size, C):\n",
        "    global visited\n",
        "    population = []\n",
        "    random.seed(0)\n",
        "\n",
        "    root = list(random.sample(range(0,len_cities), size))\n",
        "    for start in root:\n",
        "        visited = [False for _ in range(len_cities)]\n",
        "        new_chrom = tree(start)\n",
        "        fit = pow(C/eval_fit_distance(new_chrom), 2)\n",
        "        population.append((new_chrom, fit))\n",
        "\n",
        "    return  population\n",
        "\n",
        "# 초기 염색체\n",
        "def init_population_random(size, C):\n",
        "    population = []\n",
        "    random.seed(0)\n",
        "\n",
        "    for _ in range(size):\n",
        "        new_chrom = list(range(0, len_cities))\n",
        "        random.shuffle(new_chrom)\n",
        "        fit = pow(C/eval_fit_distance(new_chrom), 2)\n",
        "        population.append((new_chrom, fit))\n",
        "\n",
        "    return  population\n",
        "\n",
        " # 적합도 계산\n",
        "def eval_fit_distance(lst):\n",
        "    global matrix\n",
        "    chrm = copy.copy(lst)\n",
        "    chrm.append(chrm[0])\n",
        "\n",
        "    cost = 0\n",
        "    for idx in range(len(chrm)-1):\n",
        "        dist = matrix[chrm[idx]][chrm[idx+1]]\n",
        "        cost += dist\n",
        "\n",
        "    return cost\n",
        "\n",
        "# 룰렛 휠 셀렉션\n",
        "def roulette_wheel_selection(population):\n",
        "    sol=[]\n",
        "    max = sum(chrom[1] for chrom in population)\n",
        "    pick = np.random.uniform(0,max,2)\n",
        "\n",
        "    for i in range(2):\n",
        "      current = 0\n",
        "      for chrom in population:\n",
        "        current += chrom[1]\n",
        "        if (current > pick[i]):\n",
        "          sol.append(chrom)\n",
        "          break\n",
        "\n",
        "    return sol[0], sol[1]\n",
        "\n",
        "# cross_over\n",
        "def cross_over(course1, course2):\n",
        "    switch = random.randrange(0, len(course1))\n",
        "    child = course1[:switch+1]\n",
        "    child += [i for i in course2 if i not in child]\n",
        "    return child\n",
        "\n",
        "def order_cross_over(course1, course2):\n",
        "    switch1, switch2 = random.sample(range(0, len(course1)), 2)\n",
        "    if switch1 > switch2: switch1, switch2 = switch2, switch1\n",
        "    child1 = course1[switch1:switch2+1]\n",
        "\n",
        "    child2 = [i for i in course2[switch2+1:] if i not in child1]\n",
        "    child2 += child1\n",
        "    child2 += [i for i in course2[:switch2+1] if i not in child1]\n",
        "    return child2\n",
        "\n",
        "# mutation\n",
        "def mutation(course):\n",
        "    prob = 0.1\n",
        "    if random.random() < prob:\n",
        "        switch1, switch2 = random.sample(range(0, len(course)), 2)\n",
        "        course[switch1], course[switch2] = course[switch2], course[switch1]\n",
        "    return course\n",
        "\n",
        "def inversion(course):\n",
        "    prob = 0.1\n",
        "    if random.random() < prob:\n",
        "        switch1, switch2 = random.sample(range(0, len(course)), 2)\n",
        "        inversion = course[switch1:switch2]\n",
        "        inversion.reverse()\n",
        "        course[switch1:switch2] = inversion[:]\n",
        "    return course\n",
        "\n",
        "# 대치\n",
        "def replace_chrom(population, offspring, population_size):\n",
        "    offspring_max = max(offspring, key=lambda chrom: chrom[1])\n",
        "    population_min = min(population, key=lambda chrom: chrom[1])\n",
        "    \n",
        "    if offspring_max[1] > population_min[1]:\n",
        "        population += offspring\n",
        "        population.sort(key=lambda chrom: -chrom[1])\n",
        "        del population[population_size:]\n",
        "\n",
        "population_size = 10\n",
        "offspring_size = 10\n",
        "C = 1000000\n",
        "offspring = []\n",
        "total_dist=[]\n",
        "\n",
        "# 1. 초기 모집단 생성\n",
        "eval_matrix()\n",
        "population = init_population_tree(population_size, C)\n",
        "\n",
        "for idx in range(10001):\n",
        "  offspring.clear()\n",
        "  while len(offspring) != offspring_size:\n",
        "    # 3. 룰렛 휠 선택\n",
        "    chorm1, chorm2 = roulette_wheel_selection(population)\n",
        "\n",
        "    # 4. cross over & mutation\n",
        "    new_chrom = mutation(order_cross_over(chorm1[0], chorm2[0]))\n",
        "    fit = pow(C/eval_fit_distance(new_chrom), 2)\n",
        "    offspring.append((new_chrom, fit))\n",
        "\n",
        "  # 5. replace\n",
        "  replace_chrom(population, offspring, population_size)\n",
        "\n",
        "  # 6. 각 세대 최적값 넣기\n",
        "  total_dist.append(eval_fit_distance(population[0][0]))      \n",
        "\n",
        "  # 출력\n",
        "  if idx == 0:\n",
        "    print(idx, \" : 적합도\", population[0][1], \",  cost \", total_dist[idx])\n",
        "\n",
        "  if idx >= 1000 and idx % 1000 ==0:\n",
        "    print(idx, \" : 적합도\", population[0][1], \",  cost \", total_dist[idx])\n",
        "\n",
        "path = pd.DataFrame({\"Path\": population[0][0]})\n",
        "path.to_csv(\"solution1.csv\", index=None)\n",
        "cost = pd.DataFrame({\"cost\": total_dist})\n",
        "cost.to_csv(\"cost.csv\", index=None)"
      ],
      "execution_count": 5,
      "outputs": [
        {
          "output_type": "stream",
          "text": [
            "0  : 적합도 129802.49203632864 ,  cost  2775.610263858476\n",
            "1000  : 적합도 129802.49203632884 ,  cost  2775.6102638584744\n",
            "2000  : 적합도 129802.49203632884 ,  cost  2775.6102638584744\n",
            "3000  : 적합도 129802.49203632884 ,  cost  2775.6102638584744\n",
            "4000  : 적합도 129802.49203632884 ,  cost  2775.6102638584744\n",
            "5000  : 적합도 129802.49203632884 ,  cost  2775.6102638584744\n",
            "6000  : 적합도 129802.49203632884 ,  cost  2775.6102638584744\n",
            "7000  : 적합도 129802.49203632884 ,  cost  2775.6102638584744\n",
            "8000  : 적합도 129802.49203632884 ,  cost  2775.6102638584744\n",
            "9000  : 적합도 129802.49203632884 ,  cost  2775.6102638584744\n",
            "10000  : 적합도 129802.49203632884 ,  cost  2775.6102638584744\n"
          ],
          "name": "stdout"
        }
      ]
    },
    {
      "cell_type": "code",
      "metadata": {
        "id": "vtuRMMX9DYxB",
        "colab": {
          "base_uri": "https://localhost:8080/"
        },
        "outputId": "ed78f395-0599-4143-d060-dc3d6d86decc"
      },
      "source": [
        "print(path)"
      ],
      "execution_count": 6,
      "outputs": [
        {
          "output_type": "stream",
          "text": [
            "     Path\n",
            "0     489\n",
            "1     542\n",
            "2     419\n",
            "3      46\n",
            "4     220\n",
            "..    ...\n",
            "995   746\n",
            "996   189\n",
            "997   221\n",
            "998   154\n",
            "999   621\n",
            "\n",
            "[1000 rows x 1 columns]\n"
          ],
          "name": "stdout"
        }
      ]
    },
    {
      "cell_type": "code",
      "metadata": {
        "colab": {
          "base_uri": "https://localhost:8080/"
        },
        "id": "kvyV10yGWAKW",
        "outputId": "e169fec1-c5b6-4e77-db3c-8a666a421585"
      },
      "source": [
        "# 트리구조 사용하지 않고 유전 알고리즘만 사용했을 때\n",
        "\n",
        "population_size = 10\n",
        "offspring_size = 10\n",
        "C = 1000000\n",
        "offspring = []\n",
        "total_dist=[]\n",
        "\n",
        "# 1. 초기 모집단 생성\n",
        "eval_matrix()\n",
        "population = init_population_random(population_size, C)\n",
        "\n",
        "for idx in range(10001):\n",
        "  offspring.clear()\n",
        "  while len(offspring) != offspring_size:\n",
        "    # 3. 룰렛 휠 선택\n",
        "    chorm1, chorm2 = roulette_wheel_selection(population)\n",
        "\n",
        "    # 4. cross over & mutation\n",
        "    new_chrom = mutation(order_cross_over(chorm1[0], chorm2[0]))\n",
        "    fit = pow(C/eval_fit_distance(new_chrom), 2)\n",
        "    offspring.append((new_chrom, fit))\n",
        "\n",
        "  # 5. replace\n",
        "  replace_chrom(population, offspring, population_size)\n",
        "\n",
        "  # 6. 각 세대 최적값 넣기\n",
        "  total_dist.append(eval_fit_distance(population[0][0]))      \n",
        "\n",
        "  # 출력\n",
        "  if idx == 0:\n",
        "    print(idx, \" : 적합도\", population[0][1], \",  cost \", total_dist[idx])\n",
        "\n",
        "  if idx >= 1000 and idx % 1000 ==0:\n",
        "    print(idx, \" : 적합도\", population[0][1], \",  cost \", total_dist[idx])\n",
        "\n",
        "path = pd.DataFrame({\"Path\": population[0][0]})\n",
        "path.to_csv(\"random_solution1.csv\", index=None)\n",
        "cost = pd.DataFrame({\"cost\": total_dist})\n",
        "cost.to_csv(\"random_cost.csv\", index=None)"
      ],
      "execution_count": 9,
      "outputs": [
        {
          "output_type": "stream",
          "text": [
            "0  : 적합도 387.8199586159662 ,  cost  50779.09098687922\n",
            "1000  : 적합도 1204.0913037094151 ,  cost  28818.428202689996\n",
            "2000  : 적합도 1875.304526485769 ,  cost  23092.13559921295\n",
            "3000  : 적합도 2350.4251147671785 ,  cost  20626.559338272793\n",
            "4000  : 적합도 2831.149864469588 ,  cost  18793.97178453641\n",
            "5000  : 적합도 3287.159276433399 ,  cost  17441.73268063166\n",
            "6000  : 적합도 3729.228882544627 ,  cost  16375.34582366128\n",
            "7000  : 적합도 4179.308135592132 ,  cost  15468.485830099258\n",
            "8000  : 적합도 4542.5983055865845 ,  cost  14837.059308762751\n",
            "9000  : 적합도 4852.310233411884 ,  cost  14355.74449482043\n",
            "10000  : 적합도 5165.049468156911 ,  cost  13914.344681056118\n"
          ],
          "name": "stdout"
        }
      ]
    }
  ]
}